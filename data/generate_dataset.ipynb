{
 "cells": [
  {
   "cell_type": "markdown",
   "metadata": {},
   "source": [
    "Generate a consitent set of training and test sets for comparisons.  Sets are generated using both random and scaffold splits."
   ]
  },
  {
   "cell_type": "code",
   "execution_count": 5,
   "metadata": {},
   "outputs": [
    {
     "name": "stdout",
     "output_type": "stream",
     "text": [
      "The autoreload extension is already loaded. To reload it, use:\n",
      "  %reload_ext autoreload\n"
     ]
    }
   ],
   "source": [
    "%load_ext autoreload\n",
    "%autoreload 2"
   ]
  },
  {
   "cell_type": "code",
   "execution_count": 6,
   "metadata": {},
   "outputs": [],
   "source": [
    "from glob import glob\n",
    "import pandas as pd\n",
    "from sklearn.model_selection import ShuffleSplit\n",
    "from helper import scaffold_split\n",
    "from rdkit import Chem\n",
    "from tqdm.notebook import tqdm"
   ]
  },
  {
   "cell_type": "markdown",
   "metadata": {},
   "source": [
    "Add columns to a dataframe corresponding to cross validation folds.  Generate two columns for each fold, one with a random split and one with a scaffold split"
   ]
  },
  {
   "cell_type": "code",
   "execution_count": 7,
   "metadata": {},
   "outputs": [],
   "source": [
    "def process_dataframe(df,splits):\n",
    "    idx_list = range(0,len(df))\n",
    "    rs = ShuffleSplit(n_splits=splits, test_size=0.25, train_size=None)\n",
    "    for idx,(train, test) in enumerate(rs.split(idx_list)):\n",
    "        col_list = [\"train\"] * len(df)\n",
    "        for t in test:\n",
    "            col_list[t] = \"test\"\n",
    "        col_name = f\"RND_{idx:02d}\"\n",
    "        df[col_name] = col_list\n",
    "    mol_list = [Chem.MolFromSmiles(x) for x in df.SMILES]\n",
    "    for idx in range(0,splits):\n",
    "        train, test = scaffold_split(mol_list,sizes=(0.75,0.25),seed=idx)\n",
    "        col_list = [\"train\"] * len(df)\n",
    "        for t in test:\n",
    "            col_list[t] = \"test\"\n",
    "        col_name = f\"SCAF_{idx:02d}\"\n",
    "        df[col_name] = col_list\n",
    "    return df"
   ]
  },
  {
   "cell_type": "markdown",
   "metadata": {},
   "source": [
    "Loop over datasets in SMILES file and add to a dataframe that will be used to define training and test sets."
   ]
  },
  {
   "cell_type": "code",
   "execution_count": null,
   "metadata": {},
   "outputs": [
    {
     "data": {
      "application/vnd.jupyter.widget-view+json": {
       "model_id": "484dd6e32b74458c9aaaf8e314a2e65c",
       "version_major": 2,
       "version_minor": 0
      },
      "text/plain": [
       "HBox(children=(FloatProgress(value=0.0, max=24.0), HTML(value='')))"
      ]
     },
     "metadata": {},
     "output_type": "display_data"
    }
   ],
   "source": [
    "cv_df = pd.DataFrame()\n",
    "num_splits = 10\n",
    "for filename in tqdm(sorted(glob(\"*.smi\"))):\n",
    "    df = pd.read_csv(filename,sep=\" \",names=['SMILES','Name','pIC50'])\n",
    "    df['Dataset'] = filename.replace(\".smi\",\"\")\n",
    "    cv_df = cv_df.append(process_dataframe(df, num_splits))"
   ]
  },
  {
   "cell_type": "code",
   "execution_count": null,
   "metadata": {},
   "outputs": [],
   "source": [
    "cv_df"
   ]
  },
  {
   "cell_type": "markdown",
   "metadata": {},
   "source": [
    "A qucik sanity check. "
   ]
  },
  {
   "cell_type": "code",
   "execution_count": null,
   "metadata": {},
   "outputs": [],
   "source": [
    "for s in range(0,num_splits):\n",
    "    rnd_col = f\"RND_{s:02}\"\n",
    "    scaf_col = f\"SCAF_{s:02}\"\n",
    "    print(f\"{rnd_col:8s}\",cv_df[rnd_col].value_counts().values.tolist())\n",
    "    print(f\"{scaf_col:8s}\",cv_df[scaf_col].value_counts().values.tolist())"
   ]
  },
  {
   "cell_type": "markdown",
   "metadata": {},
   "source": [
    "Write the dataframe to disk. "
   ]
  },
  {
   "cell_type": "code",
   "execution_count": null,
   "metadata": {},
   "outputs": [],
   "source": [
    "cv_df.to_csv(\"cv_splits.csv\",index=False)"
   ]
  },
  {
   "cell_type": "code",
   "execution_count": null,
   "metadata": {},
   "outputs": [],
   "source": []
  }
 ],
 "metadata": {
  "kernelspec": {
   "display_name": "Python 3",
   "language": "python",
   "name": "python3"
  },
  "language_info": {
   "codemirror_mode": {
    "name": "ipython",
    "version": 3
   },
   "file_extension": ".py",
   "mimetype": "text/x-python",
   "name": "python",
   "nbconvert_exporter": "python",
   "pygments_lexer": "ipython3",
   "version": "3.7.6"
  }
 },
 "nbformat": 4,
 "nbformat_minor": 4
}
